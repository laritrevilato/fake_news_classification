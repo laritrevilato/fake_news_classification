{
  "cells": [
    {
      "cell_type": "markdown",
      "metadata": {
        "id": "view-in-github",
        "colab_type": "text"
      },
      "source": [
        "<a href=\"https://colab.research.google.com/github/laritrevilato/fake_news_classification/blob/main/TCC_Larissa.ipynb\" target=\"_parent\"><img src=\"https://colab.research.google.com/assets/colab-badge.svg\" alt=\"Open In Colab\"/></a>"
      ]
    },
    {
      "cell_type": "code",
      "execution_count": 1,
      "metadata": {
        "colab": {
          "base_uri": "https://localhost:8080/"
        },
        "id": "HspfvGXRPZg9",
        "outputId": "69e0b2af-d3fc-4680-d16d-23668a9dbe2b"
      },
      "outputs": [
        {
          "output_type": "stream",
          "name": "stdout",
          "text": [
            "Requirement already satisfied: nltk in /usr/local/lib/python3.11/dist-packages (3.9.1)\n",
            "Requirement already satisfied: click in /usr/local/lib/python3.11/dist-packages (from nltk) (8.1.8)\n",
            "Requirement already satisfied: joblib in /usr/local/lib/python3.11/dist-packages (from nltk) (1.4.2)\n",
            "Requirement already satisfied: regex>=2021.8.3 in /usr/local/lib/python3.11/dist-packages (from nltk) (2024.11.6)\n",
            "Requirement already satisfied: tqdm in /usr/local/lib/python3.11/dist-packages (from nltk) (4.67.1)\n",
            "Requirement already satisfied: numpy in /usr/local/lib/python3.11/dist-packages (1.26.4)\n",
            "Collecting numpy\n",
            "  Using cached numpy-2.2.5-cp311-cp311-manylinux_2_17_x86_64.manylinux2014_x86_64.whl.metadata (62 kB)\n",
            "Using cached numpy-2.2.5-cp311-cp311-manylinux_2_17_x86_64.manylinux2014_x86_64.whl (16.4 MB)\n",
            "Installing collected packages: numpy\n",
            "  Attempting uninstall: numpy\n",
            "    Found existing installation: numpy 1.26.4\n",
            "    Uninstalling numpy-1.26.4:\n",
            "      Successfully uninstalled numpy-1.26.4\n",
            "\u001b[31mERROR: pip's dependency resolver does not currently take into account all the packages that are installed. This behaviour is the source of the following dependency conflicts.\n",
            "gensim 4.3.3 requires numpy<2.0,>=1.18.5, but you have numpy 2.2.5 which is incompatible.\n",
            "gensim 4.3.3 requires scipy<1.14.0,>=1.7.0, but you have scipy 1.15.2 which is incompatible.\n",
            "google-colab 1.0.0 requires pandas==2.2.2, but you have pandas 2.2.3 which is incompatible.\n",
            "tensorflow 2.18.0 requires numpy<2.1.0,>=1.26.0, but you have numpy 2.2.5 which is incompatible.\n",
            "numba 0.60.0 requires numpy<2.1,>=1.22, but you have numpy 2.2.5 which is incompatible.\u001b[0m\u001b[31m\n",
            "\u001b[0mSuccessfully installed numpy-2.2.5\n",
            "Requirement already satisfied: gensim in /usr/local/lib/python3.11/dist-packages (4.3.3)\n",
            "Collecting numpy<2.0,>=1.18.5 (from gensim)\n",
            "  Using cached numpy-1.26.4-cp311-cp311-manylinux_2_17_x86_64.manylinux2014_x86_64.whl.metadata (61 kB)\n",
            "Collecting scipy<1.14.0,>=1.7.0 (from gensim)\n",
            "  Using cached scipy-1.13.1-cp311-cp311-manylinux_2_17_x86_64.manylinux2014_x86_64.whl.metadata (60 kB)\n",
            "Requirement already satisfied: smart-open>=1.8.1 in /usr/local/lib/python3.11/dist-packages (from gensim) (7.1.0)\n",
            "Requirement already satisfied: wrapt in /usr/local/lib/python3.11/dist-packages (from smart-open>=1.8.1->gensim) (1.17.2)\n",
            "Using cached numpy-1.26.4-cp311-cp311-manylinux_2_17_x86_64.manylinux2014_x86_64.whl (18.3 MB)\n",
            "Using cached scipy-1.13.1-cp311-cp311-manylinux_2_17_x86_64.manylinux2014_x86_64.whl (38.6 MB)\n",
            "Installing collected packages: numpy, scipy\n",
            "  Attempting uninstall: numpy\n",
            "    Found existing installation: numpy 2.2.5\n",
            "    Uninstalling numpy-2.2.5:\n",
            "      Successfully uninstalled numpy-2.2.5\n",
            "  Attempting uninstall: scipy\n",
            "    Found existing installation: scipy 1.15.2\n",
            "    Uninstalling scipy-1.15.2:\n",
            "      Successfully uninstalled scipy-1.15.2\n",
            "\u001b[31mERROR: pip's dependency resolver does not currently take into account all the packages that are installed. This behaviour is the source of the following dependency conflicts.\n",
            "google-colab 1.0.0 requires pandas==2.2.2, but you have pandas 2.2.3 which is incompatible.\n",
            "thinc 8.3.6 requires numpy<3.0.0,>=2.0.0, but you have numpy 1.26.4 which is incompatible.\u001b[0m\u001b[31m\n",
            "\u001b[0mSuccessfully installed numpy-1.26.4 scipy-1.13.1\n",
            "Requirement already satisfied: pandas in /usr/local/lib/python3.11/dist-packages (2.2.3)\n",
            "Requirement already satisfied: numpy>=1.23.2 in /usr/local/lib/python3.11/dist-packages (from pandas) (1.26.4)\n",
            "Requirement already satisfied: python-dateutil>=2.8.2 in /usr/local/lib/python3.11/dist-packages (from pandas) (2.9.0.post0)\n",
            "Requirement already satisfied: pytz>=2020.1 in /usr/local/lib/python3.11/dist-packages (from pandas) (2025.2)\n",
            "Requirement already satisfied: tzdata>=2022.7 in /usr/local/lib/python3.11/dist-packages (from pandas) (2025.2)\n",
            "Requirement already satisfied: six>=1.5 in /usr/local/lib/python3.11/dist-packages (from python-dateutil>=2.8.2->pandas) (1.17.0)\n",
            "Requirement already satisfied: scipy in /usr/local/lib/python3.11/dist-packages (1.13.1)\n",
            "Collecting scipy\n",
            "  Using cached scipy-1.15.2-cp311-cp311-manylinux_2_17_x86_64.manylinux2014_x86_64.whl.metadata (61 kB)\n",
            "Requirement already satisfied: numpy<2.5,>=1.23.5 in /usr/local/lib/python3.11/dist-packages (from scipy) (1.26.4)\n",
            "Using cached scipy-1.15.2-cp311-cp311-manylinux_2_17_x86_64.manylinux2014_x86_64.whl (37.6 MB)\n",
            "Installing collected packages: scipy\n",
            "  Attempting uninstall: scipy\n",
            "    Found existing installation: scipy 1.13.1\n",
            "    Uninstalling scipy-1.13.1:\n",
            "      Successfully uninstalled scipy-1.13.1\n",
            "\u001b[31mERROR: pip's dependency resolver does not currently take into account all the packages that are installed. This behaviour is the source of the following dependency conflicts.\n",
            "gensim 4.3.3 requires scipy<1.14.0,>=1.7.0, but you have scipy 1.15.2 which is incompatible.\u001b[0m\u001b[31m\n",
            "\u001b[0mSuccessfully installed scipy-1.15.2\n",
            "Requirement already satisfied: scikit-learn in /usr/local/lib/python3.11/dist-packages (1.6.1)\n",
            "Requirement already satisfied: numpy>=1.19.5 in /usr/local/lib/python3.11/dist-packages (from scikit-learn) (1.26.4)\n",
            "Requirement already satisfied: scipy>=1.6.0 in /usr/local/lib/python3.11/dist-packages (from scikit-learn) (1.15.2)\n",
            "Requirement already satisfied: joblib>=1.2.0 in /usr/local/lib/python3.11/dist-packages (from scikit-learn) (1.4.2)\n",
            "Requirement already satisfied: threadpoolctl>=3.1.0 in /usr/local/lib/python3.11/dist-packages (from scikit-learn) (3.6.0)\n",
            "Requirement already satisfied: matplotlib in /usr/local/lib/python3.11/dist-packages (3.10.0)\n",
            "Requirement already satisfied: contourpy>=1.0.1 in /usr/local/lib/python3.11/dist-packages (from matplotlib) (1.3.2)\n",
            "Requirement already satisfied: cycler>=0.10 in /usr/local/lib/python3.11/dist-packages (from matplotlib) (0.12.1)\n",
            "Requirement already satisfied: fonttools>=4.22.0 in /usr/local/lib/python3.11/dist-packages (from matplotlib) (4.57.0)\n",
            "Requirement already satisfied: kiwisolver>=1.3.1 in /usr/local/lib/python3.11/dist-packages (from matplotlib) (1.4.8)\n",
            "Requirement already satisfied: numpy>=1.23 in /usr/local/lib/python3.11/dist-packages (from matplotlib) (1.26.4)\n",
            "Requirement already satisfied: packaging>=20.0 in /usr/local/lib/python3.11/dist-packages (from matplotlib) (24.2)\n",
            "Requirement already satisfied: pillow>=8 in /usr/local/lib/python3.11/dist-packages (from matplotlib) (11.2.1)\n",
            "Requirement already satisfied: pyparsing>=2.3.1 in /usr/local/lib/python3.11/dist-packages (from matplotlib) (3.2.3)\n",
            "Requirement already satisfied: python-dateutil>=2.7 in /usr/local/lib/python3.11/dist-packages (from matplotlib) (2.9.0.post0)\n",
            "Requirement already satisfied: six>=1.5 in /usr/local/lib/python3.11/dist-packages (from python-dateutil>=2.7->matplotlib) (1.17.0)\n",
            "Requirement already satisfied: git-python in /usr/local/lib/python3.11/dist-packages (1.0.3)\n",
            "Requirement already satisfied: gitpython in /usr/local/lib/python3.11/dist-packages (from git-python) (3.1.44)\n",
            "Requirement already satisfied: gitdb<5,>=4.0.1 in /usr/local/lib/python3.11/dist-packages (from gitpython->git-python) (4.0.12)\n",
            "Requirement already satisfied: smmap<6,>=3.0.1 in /usr/local/lib/python3.11/dist-packages (from gitdb<5,>=4.0.1->gitpython->git-python) (5.0.2)\n"
          ]
        }
      ],
      "source": [
        "!pip install --upgrade nltk\n",
        "!pip install --upgrade numpy\n",
        "!pip install --upgrade gensim\n",
        "!pip install --upgrade pandas\n",
        "!pip install --upgrade scipy\n",
        "!pip install --upgrade scikit-learn\n",
        "!pip install matplotlib\n",
        "!pip install git-python\n",
        "\n",
        "#scikit-learn"
      ]
    },
    {
      "cell_type": "code",
      "execution_count": 2,
      "metadata": {
        "id": "iXbd7rFukFUG",
        "colab": {
          "base_uri": "https://localhost:8080/"
        },
        "outputId": "6d66f258-3aac-4a06-8740-c0da822b4269"
      },
      "outputs": [
        {
          "output_type": "stream",
          "name": "stderr",
          "text": [
            "[nltk_data] Downloading package punkt to /root/nltk_data...\n",
            "[nltk_data]   Unzipping tokenizers/punkt.zip.\n",
            "[nltk_data] Downloading package stopwords to /root/nltk_data...\n",
            "[nltk_data]   Unzipping corpora/stopwords.zip.\n",
            "[nltk_data] Downloading package wordnet to /root/nltk_data...\n",
            "[nltk_data] Downloading package punkt_tab to /root/nltk_data...\n",
            "[nltk_data]   Unzipping tokenizers/punkt_tab.zip.\n"
          ]
        },
        {
          "output_type": "execute_result",
          "data": {
            "text/plain": [
              "True"
            ]
          },
          "metadata": {},
          "execution_count": 2
        }
      ],
      "source": [
        "from nltk.tokenize import word_tokenize\n",
        "import scipy\n",
        "from sklearn.feature_extraction.text import CountVectorizer\n",
        "from sklearn.model_selection import train_test_split\n",
        "from sklearn.svm import SVC\n",
        "from sklearn.naive_bayes import MultinomialNB\n",
        "from sklearn.linear_model import LogisticRegression\n",
        "from sklearn.metrics import accuracy_score\n",
        "from sklearn.metrics import confusion_matrix\n",
        "from nltk.corpus import stopwords\n",
        "from nltk.stem import WordNetLemmatizer\n",
        "import matplotlib.pyplot as plt\n",
        "import pandas as pd\n",
        "import seaborn as sns\n",
        "import random\n",
        "import os\n",
        "import nltk\n",
        "import git\n",
        "\n",
        "\n",
        "nltk.download('punkt')\n",
        "nltk.download('stopwords')\n",
        "nltk.download('wordnet')\n",
        "nltk.download('punkt_tab')"
      ]
    },
    {
      "cell_type": "code",
      "source": [
        "repo_dir_Fakebr = \"/content/repo/Fakebr\"\n",
        "repo_Fakebr = \"https://github.com/roneysco/Fake.br-Corpus.git\"\n",
        "diretorio_verdadeiras_Fakebr = \"/content/repo/Fakebr/full_texts/true\"\n",
        "diretorio_falsas_Fakebr = \"/content/repo/Fakebr/full_texts/fake\"\n",
        "\n",
        "repo_dir_FakeRecogna = \"/content/repo/FakeRecogna\"\n",
        "repo_FakeRecogna = \"https://github.com/Gabriel-Lino-Garcia/FakeRecogna.git\"\n",
        "file_name_FakeRecogna = 'repo/FakeRecogna/dataset/FakeRecogna.xlsx'\n",
        "\n",
        "repo_dir_FakeTrue = \"/content/repo/FakeTrue\"\n",
        "repo_FakeTrue = \"https://github.com/jpchav98/FakeTrue.Br.git\"\n",
        "file_name_FakeTrue = '/content/repo/FakeTrue/FakeTrueBr_corpus.csv'\n",
        "\n",
        "repo_dir_BoatosBR = \"/content/repo/BoatosBR\"\n",
        "repo_BoatosBR =  \"https://github.com/Felipe-Harrison/boatos-br-corpus.git\"\n"
      ],
      "metadata": {
        "id": "sRyRF28aQTc0"
      },
      "execution_count": 3,
      "outputs": []
    },
    {
      "cell_type": "code",
      "execution_count": 4,
      "metadata": {
        "id": "CpmBosVNUVW-"
      },
      "outputs": [],
      "source": [
        "if not os.path.exists(repo_dir_Fakebr):\n",
        "  git.Repo.clone_from(repo_Fakebr,repo_dir_Fakebr)\n",
        "\n",
        "if not os.path.exists(repo_dir_FakeRecogna):\n",
        "  git.Repo.clone_from(repo_FakeRecogna,repo_dir_FakeRecogna)\n",
        "\n",
        "if not os.path.exists(repo_dir_FakeTrue):\n",
        "  git.Repo.clone_from(repo_FakeTrue,repo_dir_FakeTrue)\n",
        "\n",
        "if not os.path.exists(repo_dir_BoatosBR):\n",
        "  git.Repo.clone_from(repo_BoatosBR,repo_dir_BoatosBR)"
      ]
    },
    {
      "cell_type": "code",
      "source": [
        "def pre_processamento(texto):\n",
        "\n",
        "  tokens = word_tokenize(texto)\n",
        "\n",
        "  tokens = [token.lower() for token in tokens]\n",
        "\n",
        "  stop_words = set(stopwords.words('portuguese'))\n",
        "  tokens = [token for token in tokens if token.isalnum() and token not in stop_words]\n",
        "\n",
        "  lemmatizer = WordNetLemmatizer()\n",
        "  tokens = [lemmatizer.lemmatize(token) for token in tokens]\n",
        "\n",
        "  return ' '.join(tokens)"
      ],
      "metadata": {
        "id": "OF5qAWXWTzR-"
      },
      "execution_count": 5,
      "outputs": []
    },
    {
      "cell_type": "code",
      "source": [
        "def read_FakeRecogna():\n",
        "\n",
        "  df_FakeRecogna_raw = pd.read_excel(file_name_FakeRecogna)\n",
        "  df_FakeRecogna_raw = df_FakeRecogna_raw[['Titulo', 'Subtitulo', 'Noticia', 'Classe']]\n",
        "\n",
        "  # Convert the columns to strings before joining\n",
        "  df_FakeRecogna_raw[['Titulo', 'Subtitulo', 'Noticia']] = df_FakeRecogna_raw[['Titulo', 'Subtitulo', 'Noticia']].astype(str)\n",
        "\n",
        "  # Replace non-finite values with a suitable integer (e.g., -1)\n",
        "  df_FakeRecogna_raw['Classe'] = df_FakeRecogna_raw['Classe'].fillna(-1).astype(int)\n",
        "\n",
        "  df_FakeRecogna = pd.DataFrame({\n",
        "      'FullText': df_FakeRecogna_raw[['Titulo', 'Subtitulo', 'Noticia']].agg(' '.join, axis=1),\n",
        "      'Classe': df_FakeRecogna_raw['Classe']\n",
        "  })\n",
        "\n",
        "  df_FakeRecogna['FullText'] = df_FakeRecogna['FullText'].apply(pre_processamento)\n",
        "\n",
        "  df_FakeRecogna_true = df_FakeRecogna[df_FakeRecogna['Classe'] == 1].copy()\n",
        "  df_FakeRecogna_fake = df_FakeRecogna[df_FakeRecogna['Classe'] == 0].copy()\n",
        "\n",
        "  return df_FakeRecogna_true, df_FakeRecogna_fake"
      ],
      "metadata": {
        "id": "Jm_Vcx95KUdz"
      },
      "execution_count": 6,
      "outputs": []
    },
    {
      "cell_type": "code",
      "source": [
        "def read_Fakebr():\n",
        "  noticias_verdadeiras = []\n",
        "  noticias_falsas = []\n",
        "\n",
        "  for arquivo in os.listdir(diretorio_verdadeiras_Fakebr):\n",
        "    with open(os.path.join(diretorio_verdadeiras_Fakebr, arquivo), 'r', encoding='utf-8') as f:\n",
        "      texto = f.read()\n",
        "      texto_processado = pre_processamento(texto)\n",
        "      noticias_verdadeiras.append((texto_processado,1))\n",
        "\n",
        "  for arquivo in os.listdir(diretorio_falsas_Fakebr):\n",
        "    with open(os.path.join(diretorio_falsas_Fakebr, arquivo), 'r', encoding='utf-8') as f:\n",
        "      texto = f.read()\n",
        "      texto_processado = pre_processamento(texto)\n",
        "      noticias_falsas.append((texto_processado,0))\n",
        "\n",
        "  df_Fakebr_true = pd.DataFrame(noticias_verdadeiras, columns=['FullText', 'Classe'])\n",
        "  df_Fakebr_fake = pd.DataFrame(noticias_falsas, columns=['FullText', 'Classe'])\n",
        "\n",
        "  return df_Fakebr_true, df_Fakebr_fake"
      ],
      "metadata": {
        "id": "B_gVD_7BWbXb"
      },
      "execution_count": 7,
      "outputs": []
    },
    {
      "cell_type": "code",
      "source": [
        "def read_FakeTrue():\n",
        "\n",
        "  df_FakeTrue_raw = pd.read_csv(file_name_FakeTrue)\n",
        "\n",
        "  # Convert the columns to strings before joining\n",
        "  df_FakeTrue_raw[['title_fake', 'fake', 'true']] = df_FakeTrue_raw[['title_fake', 'fake', 'true']].astype(str)\n",
        "\n",
        "  df_FakeTrue = pd.DataFrame({\n",
        "      'Fake': df_FakeTrue_raw[['title_fake', 'fake']].agg(' '.join, axis=1),\n",
        "      'True': df_FakeTrue_raw['true']\n",
        "  })\n",
        "\n",
        "  df_FakeTrue['Fake'] = df_FakeTrue['Fake'].apply(pre_processamento)\n",
        "  df_FakeTrue['True'] = df_FakeTrue['True'].apply(pre_processamento)\n",
        "\n",
        "  df_FakeTrue_true = pd.DataFrame({\n",
        "      'FullText': df_FakeTrue['True'],\n",
        "      'Classe': 1\n",
        "  })\n",
        "\n",
        "  df_FakeTrue_fake = pd.DataFrame({\n",
        "      'FullText': df_FakeTrue['Fake'],\n",
        "      'Classe': 0\n",
        "  })\n",
        "  return df_FakeTrue_true, df_FakeTrue_fake"
      ],
      "metadata": {
        "id": "IKEWQKHooLZu"
      },
      "execution_count": 8,
      "outputs": []
    },
    {
      "cell_type": "code",
      "source": [
        "def read_BoatosBR():\n",
        "  file_name_BoatosBR = \"/content/repo/BoatosBR/base_simples/boatos_br_corpus_simples.json\"\n",
        "\n",
        "  df_BoatosBR_raw = pd.read_json(file_name_BoatosBR)\n",
        "  df_BoatosBR_raw = df_BoatosBR_raw[['texto','rotulo']]\n",
        "\n",
        "  df_BoatosBR_true = df_BoatosBR_raw[df_BoatosBR_raw['rotulo'] == 'verdade'].copy()\n",
        "  df_BoatosBR_fake = df_BoatosBR_raw[df_BoatosBR_raw['rotulo'] == 'falso'].copy()\n",
        "\n",
        "  df_BoatosBR_true['texto'] = df_BoatosBR_true['texto'].apply(pre_processamento)\n",
        "  df_BoatosBR_fake['texto'] = df_BoatosBR_fake['texto'].apply(pre_processamento)\n",
        "\n",
        "  df_BoatosBR_true = pd.DataFrame({\n",
        "      'FullText': df_BoatosBR_true['texto'],\n",
        "      'Classe': 1\n",
        "  })\n",
        "\n",
        "  df_BoatosBR_fake = pd.DataFrame({\n",
        "      'FullText': df_BoatosBR_fake['texto'],\n",
        "      'Classe': 0\n",
        "  })\n",
        "\n",
        "  return df_BoatosBR_true, df_BoatosBR_fake\n"
      ],
      "metadata": {
        "id": "tZOURvXVoRxv"
      },
      "execution_count": 9,
      "outputs": []
    },
    {
      "cell_type": "code",
      "source": [
        "def BOW(noticias):\n",
        "\n",
        "  lista_noticias = noticias['FullText']\n",
        "  lista_rotulos = noticias['Classe']\n",
        "\n",
        "  vectorizer = CountVectorizer()\n",
        "  matriz_bow = vectorizer.fit_transform(lista_noticias)\n",
        "\n",
        "  return matriz_bow, lista_rotulos"
      ],
      "metadata": {
        "id": "ssVyEhyLrxGt"
      },
      "execution_count": 10,
      "outputs": []
    },
    {
      "cell_type": "code",
      "source": [
        "#TF-IDF (Term Frequency-Inverse Document Frequency)\n",
        "from sklearn.feature_extraction.text import TfidfTransformer\n",
        "\n",
        "def TFIDF(noticias):\n",
        "\n",
        "    # Step 1: Extract the text and labels\n",
        "    texts = noticias['FullText'].astype(str).tolist()\n",
        "    labels = noticias['Classe'].tolist()\n",
        "\n",
        "    # Step 2: Convert text to a count matrix\n",
        "    vectorizer = CountVectorizer()\n",
        "    count_matrix = vectorizer.fit_transform(texts)\n",
        "\n",
        "    # Step 3: Apply TF-IDF transformation\n",
        "    transformer = TfidfTransformer()\n",
        "    tfidf_matrix = transformer.fit_transform(count_matrix)\n",
        "\n",
        "    return tfidf_matrix, labels"
      ],
      "metadata": {
        "id": "3dq6dG6Pl-Ye"
      },
      "execution_count": 11,
      "outputs": []
    },
    {
      "cell_type": "code",
      "source": [
        "#Word2Vec\n",
        "\n",
        "import pandas as pd\n",
        "from gensim.models import Word2Vec\n",
        "from nltk.tokenize import word_tokenize\n",
        "import numpy as np\n",
        "from sklearn.preprocessing import MinMaxScaler\n",
        "\n",
        "def function_Word2Vec(noticias):\n",
        "\n",
        "    vector_size=300\n",
        "    window=10\n",
        "    min_count=5\n",
        "\n",
        "    # Step 1: Preprocess text\n",
        "    noticias['FullText'] = noticias['FullText'].astype(str).str.lower()\n",
        "    tokenized_texts = noticias['FullText'].apply(word_tokenize).tolist()\n",
        "\n",
        "    # Step 2: Train Word2Vec model\n",
        "    w2v_model = Word2Vec(\n",
        "        sentences=tokenized_texts,\n",
        "        vector_size=vector_size,\n",
        "        window=window,\n",
        "        min_count=min_count,\n",
        "        workers=4\n",
        "    )\n",
        "\n",
        "    # Step 5: Compute document vectors (average of word vectors)\n",
        "    def document_vector(doc):\n",
        "        vectors = [w2v_model.wv[word] for word in doc if word in w2v_model.wv]\n",
        "        if vectors:\n",
        "            return np.mean(vectors, axis=0)\n",
        "        else:\n",
        "            return np.zeros(vector_size)\n",
        "\n",
        "    doc_vectors = np.array([document_vector(doc) for doc in tokenized_texts])\n",
        "\n",
        "    # Apply MinMaxScaler to normalize document vectors\n",
        "    scaler = MinMaxScaler()\n",
        "    doc_vectors_normalized = scaler.fit_transform(doc_vectors)\n",
        "\n",
        "    labels = noticias['Classe'].tolist()\n",
        "\n",
        "    return doc_vectors, labels\n"
      ],
      "metadata": {
        "id": "PYBl8siYmFPl"
      },
      "execution_count": 12,
      "outputs": []
    },
    {
      "cell_type": "code",
      "source": [
        "#df_FakeRecogna_true  --5951\n",
        "#df_FakeRecogna_fake  --5951\n",
        "\n",
        "#df_Fakebr_true       --3600\n",
        "#df_Fakebr_fake       --3600\n",
        "\n",
        "#df_FakeTrue_true     --1791\n",
        "#df_FakeTrue_fake     --1791\n",
        "\n",
        "#df_BoatosBR_true     --1516\n",
        "#df_BoatosBR_fake     --1906 -- 1516\n",
        "\n",
        "#full_data            --25716"
      ],
      "metadata": {
        "id": "y3V8whAaLMs-"
      },
      "execution_count": null,
      "outputs": []
    },
    {
      "cell_type": "code",
      "execution_count": 13,
      "metadata": {
        "id": "OJxomU6pgm-y"
      },
      "outputs": [],
      "source": [
        "def function_SVC(bow_treino, rotulos_treino, bow_teste, rotulos_teste):\n",
        "\n",
        "    from sklearn.svm import SVC\n",
        "\n",
        "    # Create an SVC model\n",
        "    model = SVC(kernel='linear', C=1.0)\n",
        "\n",
        "    # Fit the model to the training data\n",
        "    model.fit(bow_treino, rotulos_treino)\n",
        "\n",
        "    # Make predictions on the test set\n",
        "    y_pred = model.predict(bow_teste)\n",
        "\n",
        "    # Evaluate the model's performance\n",
        "    accuracy = accuracy_score(rotulos_teste, y_pred)\n",
        "    #print(f'Accuracy: {accuracy:.2f}')\n",
        "\n",
        "    return accuracy"
      ]
    },
    {
      "cell_type": "code",
      "execution_count": 14,
      "metadata": {
        "id": "OEwcFzHJjm8I"
      },
      "outputs": [],
      "source": [
        "def function_LogisticRegression(bow_treino, rotulos_treino, bow_teste, rotulos_teste):\n",
        "    from sklearn.linear_model import LogisticRegression\n",
        "\n",
        "    # Create a Logistic Regression model\n",
        "    model = LogisticRegression(max_iter=200)  # Increase max_iter if needed\n",
        "\n",
        "    # Fit the model to the training data\n",
        "    model.fit(bow_treino, rotulos_treino)\n",
        "\n",
        "    # Make predictions on the test set\n",
        "    y_pred = model.predict(bow_teste)\n",
        "\n",
        "    # Evaluate the model's performance\n",
        "    accuracy = accuracy_score(rotulos_teste, y_pred)\n",
        "    #print(f'Accuracy: {accuracy:.2f}')\n",
        "\n",
        "    return accuracy\n"
      ]
    },
    {
      "cell_type": "code",
      "execution_count": 15,
      "metadata": {
        "id": "ZTwOwkKGjq9Z"
      },
      "outputs": [],
      "source": [
        "def function_MultinomialNB(bow_treino, rotulos_treino, bow_teste, rotulos_teste):\n",
        "\n",
        "    from sklearn.naive_bayes import MultinomialNB\n",
        "\n",
        "    # Create a Multinomial Naive Bayes model\n",
        "    model = MultinomialNB(alpha=1.0)  # Default alpha is 1.0\n",
        "\n",
        "    # Fit the model to the training data\n",
        "    model.fit(bow_treino, rotulos_treino)\n",
        "\n",
        "    # Make predictions on the test set\n",
        "    y_pred = model.predict(bow_teste)\n",
        "\n",
        "    # Evaluate the model's performance\n",
        "    accuracy = accuracy_score(rotulos_teste, y_pred)\n",
        "    # print(f'Accuracy: {accuracy:.2f}')\n",
        "\n",
        "    return accuracy"
      ]
    },
    {
      "cell_type": "code",
      "source": [
        "df_FakeRecogna_true, df_FakeRecogna_fake = read_FakeRecogna()"
      ],
      "metadata": {
        "id": "37Tge3g8qWMu"
      },
      "execution_count": 16,
      "outputs": []
    },
    {
      "cell_type": "code",
      "source": [
        "df_Fakebr_true, df_Fakebr_fake = read_Fakebr()"
      ],
      "metadata": {
        "id": "KJN3odWqhryh"
      },
      "execution_count": 17,
      "outputs": []
    },
    {
      "cell_type": "code",
      "source": [
        "df_FakeTrue_true, df_FakeTrue_fake = read_FakeTrue()"
      ],
      "metadata": {
        "id": "L81uH-lUhtcS"
      },
      "execution_count": 18,
      "outputs": []
    },
    {
      "cell_type": "code",
      "source": [
        "df_BoatosBR_true, df_BoatosBR_fake = read_BoatosBR()\n",
        "df_BoatosBR_fake = df_BoatosBR_fake.sample(n=1516, random_state=42).reset_index(drop=True)"
      ],
      "metadata": {
        "id": "0Es_ObeYhuwg"
      },
      "execution_count": 19,
      "outputs": []
    },
    {
      "cell_type": "code",
      "execution_count": 20,
      "metadata": {
        "id": "qsb5T24eZYxG"
      },
      "outputs": [],
      "source": [
        "def representation_method(method_name, dataframe):\n",
        "    method_map = {\n",
        "        'BOW': BOW,\n",
        "        'TFIDF': TFIDF,\n",
        "        'function_Word2Vec': function_Word2Vec\n",
        "    }\n",
        "\n",
        "    if method_name not in method_map:\n",
        "        raise ValueError(f\"Unknown method: {method_name}\")\n",
        "\n",
        "    # Call the appropriate function\n",
        "    return method_map[method_name](dataframe)"
      ]
    },
    {
      "cell_type": "code",
      "source": [
        "def process_classification_methods(representation, dataframe):\n",
        "\n",
        "    bow_completa, rotulos_completos = representation_method(representation, dataframe)\n",
        "\n",
        "    bow_treino, bow_teste, rotulos_treino, rotulos_teste = train_test_split(\n",
        "        bow_completa,\n",
        "        rotulos_completos,\n",
        "        test_size=0.2,\n",
        "        random_state=52,\n",
        "        stratify=rotulos_completos\n",
        "    )\n",
        "\n",
        "    accuracy_SVC = function_SVC(bow_treino, rotulos_treino, bow_teste, rotulos_teste)\n",
        "    accuracy_LR = function_LogisticRegression(bow_treino, rotulos_treino, bow_teste, rotulos_teste)\n",
        "    #accuracy_MNB = function_MultinomialNB(bow_treino, rotulos_treino, bow_teste, rotulos_teste)\n",
        "\n",
        "    return [accuracy_SVC, accuracy_LR]"
      ],
      "metadata": {
        "id": "Y7Kdw37Y5PKf"
      },
      "execution_count": 21,
      "outputs": []
    },
    {
      "cell_type": "code",
      "source": [
        "def plot_model_comparison(\n",
        "    results,\n",
        "    representation_name,\n",
        "    model_names,\n",
        "    dataset_labels = None\n",
        "):\n",
        "\n",
        "    import matplotlib.pyplot as plt\n",
        "    import numpy as np\n",
        "\n",
        "    if dataset_labels is None:\n",
        "      dataset_labels = ['Dataset 1', 'Dataset 2', 'Dataset 3', 'Dataset 4', 'Dataset 5']\n",
        "\n",
        "    # Bar positions\n",
        "    x = np.arange(len(model_names))\n",
        "    width = 0.15  # width of the bars\n",
        "\n",
        "    # Plot\n",
        "    fig, ax = plt.subplots(figsize=(10, 6))\n",
        "\n",
        "    bars1 = ax.bar(x - 2*width, results[0], width, label=dataset_labels[0], color='lightcoral')\n",
        "    bars2 = ax.bar(x - width, results[1], width, label=dataset_labels[1], color='cornflowerblue')\n",
        "    bars3 = ax.bar(x, results[2], width, label=dataset_labels[2], color='turquoise')\n",
        "    bars4 = ax.bar(x + width, results[3], width, label=dataset_labels[3], color='mediumpurple')\n",
        "    bars5 = ax.bar(x + 2*width, results[4], width, label=dataset_labels[4], color='dodgerblue')\n",
        "\n",
        "    # Labels and formatting\n",
        "    ax.set_ylabel('Accuracy')\n",
        "    ax.set_title(f'Model Accuracy: {representation_name}')\n",
        "    ax.set_xticks(x)\n",
        "    ax.set_xticklabels(model_names)\n",
        "    ax.set_ylim(0, 1.05)\n",
        "    ax.legend()\n",
        "\n",
        "    # Add accuracy values above bars\n",
        "    for bars in [bars1, bars2, bars3, bars4, bars5]:\n",
        "        for bar in bars:\n",
        "            yval = bar.get_height()\n",
        "            ax.text(bar.get_x() + bar.get_width()/2, yval + 0.01, f'{yval:.2f}', ha='center', va='bottom', fontsize=8)\n",
        "\n",
        "    plt.tight_layout()\n",
        "    plt.show()\n"
      ],
      "metadata": {
        "id": "oPECgbMl5YNK"
      },
      "execution_count": null,
      "outputs": []
    },
    {
      "cell_type": "code",
      "source": [
        "data1 = pd.concat([df_Fakebr_true, df_Fakebr_fake], ignore_index=True)\n",
        "data2 = pd.concat([df_FakeRecogna_true, df_FakeRecogna_fake], ignore_index=True)\n",
        "data3 = pd.concat([df_FakeTrue_true, df_FakeTrue_fake], ignore_index=True)\n",
        "data4 = pd.concat([df_BoatosBR_true, df_BoatosBR_fake], ignore_index=True)\n",
        "full_data = pd.concat([\n",
        "    df_Fakebr_true,\n",
        "    df_Fakebr_fake,\n",
        "    df_FakeRecogna_true,\n",
        "    df_FakeRecogna_fake,\n",
        "    df_FakeTrue_true,\n",
        "    df_FakeTrue_fake,\n",
        "    df_BoatosBR_true,\n",
        "    df_BoatosBR_fake\n",
        "], ignore_index=True)\n",
        "#25716\n",
        "\n",
        "data = [data1, data2, data3, data4, full_data]\n",
        "results = []\n",
        "representation_name = 'BOW'\n",
        "model_names = ['SVC', 'Logistic Regression', 'Multinomial NB']\n",
        "\n",
        "for dataframe in data:\n",
        "    result = process_classification_methods(representation_name, dataframe)\n",
        "    results.append(result)"
      ],
      "metadata": {
        "id": "eyJ4tNQd5aRf"
      },
      "execution_count": null,
      "outputs": []
    },
    {
      "cell_type": "code",
      "source": [
        "plot_model_comparison(\n",
        "    results,\n",
        "    representation_name,\n",
        "    model_names,\n",
        "    dataset_labels=['Fake.br', 'FakeRecogna', 'FakeTrue', 'BoatosBR', 'FullData']\n",
        ")"
      ],
      "metadata": {
        "colab": {
          "base_uri": "https://localhost:8080/",
          "height": 607
        },
        "id": "H3NTKZXkcoRH",
        "outputId": "c58314ba-3613-48a7-88c5-0641937272ca"
      },
      "execution_count": null,
      "outputs": [
        {
          "output_type": "display_data",
          "data": {
            "text/plain": [
              "<Figure size 1000x600 with 1 Axes>"
            ],
            "image/png": "[encoded data removed]"
          },
          "metadata": {}
        }
      ]
    },
    {
      "cell_type": "code",
      "source": [
        "representation_name = 'TFIDF'\n",
        "model_names = ['SVC', 'Logistic Regression', 'Multinomial NB']\n",
        "\n",
        "for dataframe in data:\n",
        "    result = process_classification_methods(representation_name, dataframe)\n",
        "    results.append(result)\n",
        "\n",
        "plot_model_comparison(\n",
        "    results,\n",
        "    representation_name,\n",
        "    model_names,\n",
        "    dataset_labels=['Fake.br', 'FakeRecogna', 'FakeTrue', 'BoatosBR', 'FullData']\n",
        ")"
      ],
      "metadata": {
        "colab": {
          "base_uri": "https://localhost:8080/",
          "height": 607
        },
        "id": "zaZ3DVqxhpKa",
        "outputId": "bb1e0cfe-a972-46e6-b337-fc646e4c8971"
      },
      "execution_count": null,
      "outputs": [
        {
          "output_type": "display_data",
          "data": {
            "text/plain": [
              "<Figure size 1000x600 with 1 Axes>"
            ],
            "image/png": "[encoded data removed]"
          },
          "metadata": {}
        }
      ]
    },
    {
      "cell_type": "code",
      "source": [
        "def plot_model_comparison(\n",
        "    results,\n",
        "    representation_name,\n",
        "    model_names,\n",
        "    dataset_labels=None\n",
        "):\n",
        "    import matplotlib.pyplot as plt\n",
        "    import numpy as np\n",
        "\n",
        "    num_datasets = len(results)\n",
        "    num_models = len(model_names)\n",
        "\n",
        "    if dataset_labels is None:\n",
        "        dataset_labels = [f'Dataset {i+1}' for i in range(num_datasets)]\n",
        "\n",
        "    if len(dataset_labels) != num_datasets:\n",
        "        raise ValueError(\"Number of dataset_labels must match number of datasets in results\")\n",
        "\n",
        "    # Bar positions\n",
        "    x = np.arange(num_models)\n",
        "    width = 0.8 / num_datasets  # make width fit all datasets nicely\n",
        "\n",
        "    # Plot\n",
        "    fig, ax = plt.subplots(figsize=(10, 6))\n",
        "\n",
        "    for i, (dataset_result, label) in enumerate(zip(results, dataset_labels)):\n",
        "        if len(dataset_result) != num_models:\n",
        "            raise ValueError(f\"Mismatch: result[{i}] has {len(dataset_result)} values, but there are {num_models} models.\")\n",
        "\n",
        "        ax.bar(x + (i - num_datasets // 2) * width, dataset_result, width, label=label)\n",
        "\n",
        "    # Labels and formatting\n",
        "    ax.set_ylabel('Accuracy')\n",
        "    ax.set_title(f'Model Accuracy: {representation_name}')\n",
        "    ax.set_xticks(x)\n",
        "    ax.set_xticklabels(model_names)\n",
        "    ax.set_ylim(0, 1.05)\n",
        "    ax.legend()\n",
        "\n",
        "    # Add accuracy values above bars\n",
        "    for bars in ax.containers:\n",
        "        for bar in bars:\n",
        "            yval = bar.get_height()\n",
        "            ax.text(bar.get_x() + bar.get_width() / 2, yval + 0.01, f'{yval:.2f}', ha='center', va='bottom', fontsize=8)\n",
        "\n",
        "    plt.tight_layout()\n",
        "    plt.show()\n"
      ],
      "metadata": {
        "id": "sHN6I3E249E-"
      },
      "execution_count": 22,
      "outputs": []
    },
    {
      "cell_type": "code",
      "source": [
        "data1 = pd.concat([df_Fakebr_true, df_Fakebr_fake], ignore_index=True)\n",
        "data2 = pd.concat([df_FakeRecogna_true, df_FakeRecogna_fake], ignore_index=True)\n",
        "data3 = pd.concat([df_FakeTrue_true, df_FakeTrue_fake], ignore_index=True)\n",
        "data4 = pd.concat([df_BoatosBR_true, df_BoatosBR_fake], ignore_index=True)\n",
        "full_data = pd.concat([\n",
        "    df_Fakebr_true,\n",
        "    df_Fakebr_fake,\n",
        "    df_FakeRecogna_true,\n",
        "    df_FakeRecogna_fake,\n",
        "    df_FakeTrue_true,\n",
        "    df_FakeTrue_fake,\n",
        "    df_BoatosBR_true,\n",
        "    df_BoatosBR_fake\n",
        "], ignore_index=True)\n",
        "#25716\n",
        "\n",
        "data = [data1, data2, data3, data4, full_data]\n",
        "results = []\n",
        "\n",
        "representation_name = 'function_Word2Vec'\n",
        "model_names = ['SVC', 'Logistic Regression']\n",
        "\n",
        "for dataframe in data:\n",
        "    result = process_classification_methods(representation_name, dataframe)\n",
        "    results.append(result)\n",
        "\n",
        "plot_model_comparison(\n",
        "    results,\n",
        "    representation_name,\n",
        "    model_names,\n",
        "    dataset_labels=['Fake.br', 'FakeRecogna', 'FakeTrue', 'BoatosBR', 'FullData']\n",
        ")"
      ],
      "metadata": {
        "colab": {
          "base_uri": "https://localhost:8080/",
          "height": 607
        },
        "id": "mwfFKkFaiv1-",
        "outputId": "af9353a2-4677-4c6e-b574-33f56d353361"
      },
      "execution_count": 23,
      "outputs": [
        {
          "output_type": "display_data",
          "data": {
            "text/plain": [
              "<Figure size 1000x600 with 1 Axes>"
            ],
            "image/png": "[encoded data removed]"
          },
          "metadata": {}
        }
      ]
    },
    {
      "cell_type": "code",
      "source": [
        "import matplotlib.pyplot as plt\n",
        "import seaborn as sns\n",
        "import numpy as np\n",
        "from sklearn.metrics import confusion_matrix\n",
        "\n",
        "# Valores da matriz de confusão\n",
        "y_true = ['spam'] * 50 + ['não-spam'] * 50\n",
        "y_pred = ['spam'] * 45 + ['não-spam'] * 5 + ['spam'] * 10 + ['não-spam'] * 40\n",
        "\n",
        "# Gerar a matriz de confusão\n",
        "labels = ['spam', 'não-spam']\n",
        "cm = confusion_matrix(y_true, y_pred, labels=labels)\n",
        "\n",
        "# Plotar a matriz de confusão\n",
        "plt.figure(figsize=(6, 5))\n",
        "sns.heatmap(cm, annot=True, fmt='d', cmap='Blues', xticklabels=labels, yticklabels=labels)\n",
        "plt.xlabel('Previsto')\n",
        "plt.ylabel('Real')\n",
        "plt.title('Matriz de Confusão - Classificação de Spam')\n",
        "plt.tight_layout()\n",
        "plt.show()\n"
      ],
      "metadata": {
        "id": "aG3BT6xGRXg1"
      },
      "execution_count": null,
      "outputs": []
    },
    {
      "cell_type": "code",
      "source": [
        "import numpy as np\n",
        "import matplotlib.pyplot as plt\n",
        "\n",
        "# Simulação: tamanho do conjunto de dados (em milhares) vs. acurácia\n",
        "data_sizes = np.array([1, 2, 4, 8, 16, 32, 64, 128])\n",
        "accuracy = np.array([0.70, 0.75, 0.78, 0.81, 0.84, 0.86, 0.87, 0.88])\n",
        "\n",
        "# Plot\n",
        "plt.figure(figsize=(8, 5))\n",
        "plt.plot(data_sizes, accuracy, marker='o', linestyle='-', color='green')\n",
        "plt.title('Impacto do Tamanho dos Dados na Acurácia do Modelo')\n",
        "plt.xlabel('Tamanho do conjunto de treino (milhares de e-mails)')\n",
        "plt.ylabel('Acurácia')\n",
        "plt.grid(True)\n",
        "plt.ylim(0.65, 0.90)\n",
        "plt.xticks(data_sizes)\n",
        "plt.tight_layout()\n",
        "plt.show()\n"
      ],
      "metadata": {
        "id": "Lq3V0W5QSgSZ"
      },
      "execution_count": null,
      "outputs": []
    },
    {
      "cell_type": "code",
      "execution_count": null,
      "metadata": {
        "id": "UdjzgEyAuPKd"
      },
      "outputs": [],
      "source": [
        "'''\n",
        "JOÃO JACÓ\n",
        "\n",
        "- FAKE.BR\n",
        "\n",
        "- BoW\n",
        "\n",
        "- Máquina de Vetores de Suporte\n",
        "- Naive Bayes\n",
        "- Regressão Logística\n",
        "\n",
        "- Análise de resultados: Comparou a eficiência dos três métodos de classificação entre si\n",
        "\n",
        "Trabalhos futuros\n",
        "\n",
        "1. Conjunto de testes balanceado: Em vez de usar um conjunto de testes des-\n",
        "balanceado, considerar a criação de um conjunto de testes com 50% de notícias\n",
        "verdadeiras e 50% de notícias falsas. Isso pode ajudar a reduzir possíveis vieses\n",
        "dos modelos, em um cenário onde aleatoriamente foram escolhidas mais notícias\n",
        "verdadeiras do que falsas por exemplo.\n",
        "2. Variação nos Parâmetros de Aleatoriedade: Investigar diferentes fontes de\n",
        "aleatoriedade, como o parâmetro random_state e os grupos de notícias selecionados\n",
        "em métodos de validação cruzada, como o K-fold. Ajustar esses parâmetros pode\n",
        "fornecer insights sobre a estabilidade e a generalização dos modelos em diferentes\n",
        "cenários.\n",
        "3. Exploração de Outros Métodos de Representação de Textos: Além da\n",
        "abordagem de Bag of Words (BoW), considerar outros métodos de representação\n",
        "de textos, como:\n",
        "∙ TF-IDF (Term Frequency-Inverse Document Frequency): Que leva\n",
        "em consideração não apenas a frequência das palavras em um documento, mas\n",
        "também sua importância em relação ao corpus inteiro.\n",
        "∙ Word Embeddings (Word2Vec, Doc2Vec), etc.: Técnicas que mapeiam\n",
        "palavras em vetores de alta dimensionalidade, capturando relações semânticas\n",
        "e contextuais entre as palavras.\n",
        "∙ Modelos de Linguagem Pré-Treinados (BERT, GPT): Utilizar modelos\n",
        "de linguagem pré-treinados e com grande confiabilidade para extrair represen-\n",
        "tações ricas e contextualizadas das palavras\n",
        "\n",
        "- procurar nova base de noticias\n",
        "- Conjunto de testes balanceado (50%,50%)\n",
        "- Variação nos Parâmetros de Aleatoriedade\n",
        "- Exploração de Outros Métodos de Representação de Textos\n",
        "'''\n",
        "\n",
        "'''\n",
        "ATILIO\n",
        "\n",
        "- FAKE.BR + FakeRecogna\n",
        "\n",
        "- Word2Vec - SKIPGRAM\n",
        "\n",
        "- CNN (Rede Neural Convolucional)\n",
        "\n",
        "- Análise de resultados: Comparou os resultados da CNN com um trabalho que utilizou RNAS do tipo LSTMs\n",
        "'''\n",
        "\n",
        "'''\n",
        "- FAKE.BR\n",
        "- BERT, DistilBERT e BERTimbau\n",
        "\n",
        "'''\n",
        "\n",
        "'''\n",
        "\n",
        "FAKE.BR\n",
        "FakeRecogna\n",
        "FakeTrueBR\n",
        "\n",
        "\n",
        "FACTCK.BR\n",
        "FactCenter -\n",
        "\n",
        "– Naive Bayes (NB) [19]\n",
        "– Support Vector Machines (SVM) [9]\n",
        "– Convolutional Neural Networks (CNN): [11,13]\n",
        "\n",
        "– Multi-Layer Perceptron (MLP) [2]\n",
        "– Optimum-Path Forest (OPF) [24,23]\n",
        "– Random Forest (RF) [10]\n",
        "\n",
        "'''\n",
        "\n",
        "'''\n",
        "LARISSA\n",
        "\n",
        "FAKE.BR + FakeRecogna + FakeTrueBR - Conjunto de testes balanceado (50%,50%)\n",
        "\n",
        "TF-IDF (Term Frequency-Inverse Document Frequency)\n",
        "Word2Vec\n",
        "\n",
        "- Máquina de Vetores de Suporte\n",
        "- Naive Bayes\n",
        "- Regressão Logística\n",
        "\n",
        "- CNN (Rede Neural Convolucional)\n",
        "'''\n",
        "\n",
        "\n"
      ]
    },
    {
      "cell_type": "code",
      "execution_count": null,
      "metadata": {
        "id": "ss5C5grXIBIV"
      },
      "outputs": [],
      "source": []
    }
  ],
  "metadata": {
    "colab": {
      "provenance": [],
      "authorship_tag": "ABX9TyMRsHSVbgyzV2zMgZLpWUwq",
      "include_colab_link": true
    },
    "kernelspec": {
      "display_name": "Python 3",
      "name": "python3"
    },
    "language_info": {
      "name": "python"
    }
  },
  "nbformat": 4,
  "nbformat_minor": 0
}